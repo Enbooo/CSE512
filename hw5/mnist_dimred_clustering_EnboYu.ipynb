{
  "nbformat": 4,
  "nbformat_minor": 0,
  "metadata": {
    "kernelspec": {
      "display_name": "Python 3",
      "language": "python",
      "name": "python3"
    },
    "language_info": {
      "codemirror_mode": {
        "name": "ipython",
        "version": 3
      },
      "file_extension": ".py",
      "mimetype": "text/x-python",
      "name": "python",
      "nbconvert_exporter": "python",
      "pygments_lexer": "ipython3",
      "version": "3.8.8"
    },
    "colab": {
      "name": "mnist_dimred_clustering_EnboYu.ipynb",
      "provenance": []
    }
  },
  "cells": [
    {
      "cell_type": "code",
      "metadata": {
        "id": "W3Fo9gSwlcP_"
      },
      "source": [
        "import numpy as np\n",
        "import matplotlib.pyplot as plt\n",
        "\n",
        "import scipy.io as sio\n",
        "import time"
      ],
      "execution_count": 20,
      "outputs": []
    },
    {
      "cell_type": "code",
      "metadata": {
        "colab": {
          "base_uri": "https://localhost:8080/"
        },
        "id": "3JxiKtkYE8ti",
        "outputId": "fd1e0b6b-b3ed-4d34-8820-91e7d145f344"
      },
      "source": [
        "from google.colab import drive\n",
        "drive.mount('/content/gdrive')   "
      ],
      "execution_count": 17,
      "outputs": [
        {
          "output_type": "stream",
          "name": "stdout",
          "text": [
            "Drive already mounted at /content/gdrive; to attempt to forcibly remount, call drive.mount(\"/content/gdrive\", force_remount=True).\n"
          ]
        }
      ]
    },
    {
      "cell_type": "code",
      "metadata": {
        "id": "4pE-p2NoFEH_"
      },
      "source": [
        "import os\n",
        "code_path = \"/content/gdrive/MyDrive/cse512hw5/mnist_clustering_release_new/\"\n",
        "os.chdir(code_path)"
      ],
      "execution_count": 18,
      "outputs": []
    },
    {
      "cell_type": "code",
      "metadata": {
        "id": "cZpR-1YhlcQD",
        "colab": {
          "base_uri": "https://localhost:8080/"
        },
        "outputId": "f38df9e9-034f-4c08-d1a4-c59d9df0d5a3"
      },
      "source": [
        "data = sio.loadmat('mnist.mat')\n",
        "X = data['trainX'].astype(float)/255\n",
        "y = data['trainY'][0,:]\n",
        "idx = np.less(y,5)\n",
        "X = X[idx,:]\n",
        "y = y[idx]\n",
        "X = X[:1000,:]\n",
        "y = y[:1000]\n",
        "m,n = X.shape\n",
        "test_idx = np.array(range(25))\n",
        "print(X.shape,y.shape)\n"
      ],
      "execution_count": 19,
      "outputs": [
        {
          "output_type": "stream",
          "name": "stdout",
          "text": [
            "(1000, 784) (1000,)\n"
          ]
        }
      ]
    },
    {
      "cell_type": "code",
      "metadata": {
        "id": "1PSYmi25lcQF",
        "colab": {
          "base_uri": "https://localhost:8080/"
        },
        "outputId": "0ec10719-5975-4cb2-d14a-d8291cd661ed"
      },
      "source": [
        "def get_distance(X,z,D1=None): \n",
        "    return np.sum(np.power(X - z, 2), axis=1)\n",
        "\n",
        "# Don't change this! Return what you see printed out.\n",
        "print(np.sum(get_distance(X,np.array(range(n)))))"
      ],
      "execution_count": 21,
      "outputs": [
        {
          "output_type": "stream",
          "name": "stdout",
          "text": [
            "160239119987.1912\n"
          ]
        }
      ]
    },
    {
      "cell_type": "code",
      "metadata": {
        "id": "xTc0V3IhlcQF"
      },
      "source": [
        "# init centroids with random samples  \n",
        "def initCentroids(dataSet, k):  \n",
        "    numSamples, dim = dataSet.shape\n",
        "    centroids = np.zeros((k, dim)) \n",
        "    for i in range(k):  \n",
        "        centroids[i, :] = dataSet[i, :]  \n",
        "    return centroids  \n",
        "\n",
        "\n",
        "def kmeans(X, k, iter = 10):  \n",
        "    numSamples = X.shape[0]  \n",
        "    # first column stores which cluster this sample belongs to,  \n",
        "    # second column stores the error between this sample and its centroid  \n",
        "    clusterChanged = True  \n",
        "    \n",
        "    ## step 1: init centroids  \n",
        "    centroids = initCentroids(X, k)  \n",
        "    class_membership = np.zeros(X.shape[0], dtype=int)\n",
        "    i = 0\n",
        "    while clusterChanged and i < iter:  \n",
        "        clusterChanged = False\n",
        "        for i in range(numSamples):  #range\n",
        "            ## step 2: find the centroid who is closest  \n",
        "            \n",
        "            new_index = np.argmin(get_distance(centroids, X[i]))\n",
        "\n",
        "            ## step 3: update its cluster \n",
        "            if class_membership[i] != new_index:  \n",
        "                clusterChanged = True  \n",
        "            class_membership[i] = new_index\n",
        "\n",
        "            ## step 4: update centroids  \n",
        "        for i in range(k):  \n",
        "            centroids = np.mean(X[np.where(np.equal(class_membership,i))[0]], axis=0)\n",
        "        i += 1\n",
        "  \n",
        "    print ('Succefully, cluster complete!')  \n",
        "    return class_membership  \n",
        "\n",
        "\n",
        "\n",
        "#use this to plot your final kmeans results\n",
        "def plot_class_membership(class_membership, K):\n",
        "    plt.figure(figsize=(20,10))\n",
        "    max_per_class = 0\n",
        "    for k in range(K):\n",
        "        per_class = np.equal(class_membership,k)\n",
        "        if sum(per_class) > max_per_class:\n",
        "            max_per_class = sum(per_class)\n",
        "    \n",
        "    for k in range(K):\n",
        "        S = np.where(np.equal(class_membership,k))[0]\n",
        "        for ii in range(len(S)):\n",
        "            i = S[ii]\n",
        "            plt.subplot(K,max_per_class,max_per_class*k+ii+1)\n",
        "            plt.imshow(np.reshape(X[i,:],(28,28)))\n",
        "        \n",
        "    \n",
        "def overall_purity(class_membership, K=10):\n",
        "    purity = 0.\n",
        "    for k in range(K):\n",
        "        S = np.where(np.equal(class_membership,k))[0]\n",
        "        unique, counts = np.unique(y[:len(class_membership)][np.equal(class_membership, k)], return_counts=True)\n",
        "        purity += np.max(counts)\n",
        "    return purity/len(class_membership)\n"
      ],
      "execution_count": 22,
      "outputs": []
    },
    {
      "cell_type": "markdown",
      "metadata": {
        "id": "2FNuJ4xMee1Q"
      },
      "source": [
        "# 10 iterations after running k-means on only the First 25 datapoints, up to 3 digits after the decimal. Plot also the clustering result."
      ]
    },
    {
      "cell_type": "code",
      "metadata": {
        "colab": {
          "base_uri": "https://localhost:8080/",
          "height": 629
        },
        "id": "jfFd9oILZuK0",
        "outputId": "549afaef-716b-4e69-e38a-a1022c8ff8c6"
      },
      "source": [
        "# Run 10 iterations\n",
        "class_membership = kmeans(X[:25], 10)\n",
        "plot_class_membership(class_membership, 10)\n",
        "print('Purity:', overall_purity(class_membership))"
      ],
      "execution_count": 24,
      "outputs": [
        {
          "output_type": "stream",
          "name": "stdout",
          "text": [
            "Succefully, cluster complete!\n",
            "Purity: 0.68\n"
          ]
        },
        {
          "output_type": "display_data",
          "data": {
            "image/png": "[encoded data removed]",
            "text/plain": [
              "<Figure size 1440x720 with 25 Axes>"
            ]
          },
          "metadata": {
            "needs_background": "light"
          }
        }
      ]
    },
    {
      "cell_type": "markdown",
      "metadata": {
        "id": "8sRhSt_gfMD-"
      },
      "source": [
        "# Implement PCA, and reduce the data dimension to d = 10, 100, and 500."
      ]
    },
    {
      "cell_type": "code",
      "metadata": {
        "id": "Yrak3USubP-Z",
        "colab": {
          "base_uri": "https://localhost:8080/"
        },
        "outputId": "b6c0a486-9932-4af6-9fce-6465a0f2d66c"
      },
      "source": [
        "time_begin = time.time()\n",
        "X = X - np.outer(np.ones(X.shape[0]), np.mean(X, axis=0))\n",
        "U, Sigma, Vh = np.linalg.svd(X, full_matrices=False, compute_uv=True)\n",
        "\n",
        "for d in [10, 100, 500]:\n",
        "    print('Reduce the dimension =', d)\n",
        "    X_SVD = np.dot(U[:, :d], np.diag(Sigma[:d]))\n",
        "    class_membership = kmeans(X_SVD, 10)\n",
        "    purity = overall_purity(class_membership)\n",
        "    print('Finally Purity:', purity)\n",
        "\n",
        "time_end = time.time()\n",
        "print(\"time cost:\", time_end-time_begin)"
      ],
      "execution_count": 31,
      "outputs": [
        {
          "output_type": "stream",
          "name": "stdout",
          "text": [
            "Reduce the dimension = 10\n",
            "Succefully, cluster complete!\n",
            "Finally Purity: 0.804\n",
            "Reduce the dimension = 100\n",
            "Succefully, cluster complete!\n",
            "Finally Purity: 0.75\n",
            "Reduce the dimension = 500\n",
            "Succefully, cluster complete!\n",
            "Finally Purity: 0.739\n",
            "time cost: 0.674248456954956\n"
          ]
        }
      ]
    },
    {
      "cell_type": "markdown",
      "metadata": {
        "id": "0II9vGCSfdlM"
      },
      "source": [
        "# Use random hashing (as promoted by the JL lemma) and reduce the feature dimension"
      ]
    },
    {
      "cell_type": "code",
      "metadata": {
        "colab": {
          "base_uri": "https://localhost:8080/"
        },
        "id": "6TeXsheVfQ1K",
        "outputId": "409bfc77-3255-4df9-b5b7-5e707bc05141"
      },
      "source": [
        "time_begin = time.time()\n",
        "for d in [10, 100, 500]:\n",
        "    print('Result the dimension =', d)\n",
        "    A = np.random.normal(0, 1, size=(d, X.shape[1]))\n",
        "    X_jL = (1 / np.sqrt(d)) * A.dot(X.T).T\n",
        "    class_membership = kmeans(X_jL, 10)\n",
        "    purity = overall_purity(class_membership)\n",
        "    print('Finally Purity:', purity)\n",
        "\n",
        "time_end = time.time()\n",
        "print(\"time cost:\", time_end-time_begin)"
      ],
      "execution_count": 33,
      "outputs": [
        {
          "output_type": "stream",
          "name": "stdout",
          "text": [
            "Result the dimension = 10\n",
            "Succefully, cluster complete!\n",
            "Finally Purity: 0.472\n",
            "Result the dimension = 100\n",
            "Succefully, cluster complete!\n",
            "Finally Purity: 0.727\n",
            "Result the dimension = 500\n",
            "Succefully, cluster complete!\n",
            "Finally Purity: 0.75\n",
            "time cost: 0.2876701354980469\n"
          ]
        }
      ]
    },
    {
      "cell_type": "markdown",
      "metadata": {
        "id": "j04_-eUJfg4-"
      },
      "source": [
        "# Isomap, LLE"
      ]
    },
    {
      "cell_type": "code",
      "metadata": {
        "id": "Q0ilTfyYfnyB"
      },
      "source": [
        "from scipy.sparse.csgraph import shortest_path\n",
        "\n",
        "def isomap(X, threshold, dimension):\n",
        "    dist = np.zeros((X.shape[0], X.shape[0]))\n",
        "    for i in range(X.shape[0]):\n",
        "        dist[i] = get_distance(X, X[i, :])\n",
        "    adj = np.zeros((X.shape[0], X.shape[0])) + np.inf\n",
        "    adj[dist<threshold] = dist[dist<threshold]\n",
        "    dist_matrix = shortest_path(csgraph=adj)\n",
        "    h = np.eye(X.shape[0]) - (1/X.shape[0]) * np.ones((X.shape[0], X.shape[0]))\n",
        "    c = -1/(2*X.shape[0]) * h.dot(dist_matrix).dot(h)\n",
        "    evals, evecs = np.linalg.eig(c)\n",
        "    idx = evals.argsort()[::-1]\n",
        "    evals, evecs = evals[idx][:dimension], evecs[:, idx][:, :dimension]\n",
        "    z = evecs.dot(np.diag(evals**(-1/2)))\n",
        "\n",
        "    return z.real"
      ],
      "execution_count": 34,
      "outputs": []
    },
    {
      "cell_type": "code",
      "metadata": {
        "colab": {
          "base_uri": "https://localhost:8080/"
        },
        "id": "6aMmGJo_fqLN",
        "outputId": "9c510c09-e99e-4541-b45a-8dc8c9a2ae10"
      },
      "source": [
        "time_begin = time.time()\n",
        "for d in [10, 100, 500]:\n",
        "    print('Result the dimension =', d)\n",
        "    X_isomap = isomap(X, 1000, d)\n",
        "    class_membership = kmeans(X_isomap, 10)\n",
        "    purity = overall_purity(class_membership)\n",
        "    print('Finally Purity:', purity)\n",
        "\n",
        "time_end = time.time()\n",
        "print(\"time cost:\", time_end-time_begin)"
      ],
      "execution_count": 35,
      "outputs": [
        {
          "output_type": "stream",
          "name": "stdout",
          "text": [
            "Result the dimension = 10\n",
            "Succefully, cluster complete!\n",
            "Finally Purity: 0.604\n",
            "Result the dimension = 100\n",
            "Succefully, cluster complete!\n",
            "Finally Purity: 0.302\n",
            "Result the dimension = 500\n",
            "Succefully, cluster complete!\n",
            "Finally Purity: 0.243\n",
            "time cost: 47.24965167045593\n"
          ]
        }
      ]
    },
    {
      "cell_type": "markdown",
      "metadata": {
        "id": "Qm_Pukvefm4k"
      },
      "source": [
        "# Use sklearn's t-SNE to to reduce dimension to 1,2,3"
      ]
    },
    {
      "cell_type": "code",
      "metadata": {
        "colab": {
          "base_uri": "https://localhost:8080/"
        },
        "id": "qr7tVdolfu0z",
        "outputId": "ebdd79ea-884d-407f-8b61-6a0b83a29cf5"
      },
      "source": [
        "from sklearn.manifold import TSNE\n",
        "\n",
        "time_begin = time.time()\n",
        "\n",
        "for d in [1, 2, 3]:\n",
        "    print('Result the dimension =', d)\n",
        "    X_embedded = TSNE(n_components=d, learning_rate='auto', init='random').fit_transform(X)\n",
        "    class_membership = kmeans(X_embedded, 10)\n",
        "    purity = overall_purity(class_membership)\n",
        "    print('Finally Purity:', purity)\n",
        "\n",
        "time_end = time.time()\n",
        "print(\"time cost:\", time_end-time_begin)"
      ],
      "execution_count": 36,
      "outputs": [
        {
          "output_type": "stream",
          "name": "stdout",
          "text": [
            "Result the dimension = 1\n",
            "Succefully, cluster complete!\n",
            "Finally Purity: 0.907\n",
            "Result the dimension = 2\n",
            "Succefully, cluster complete!\n",
            "Finally Purity: 0.893\n",
            "Result the dimension = 3\n",
            "Succefully, cluster complete!\n",
            "Finally Purity: 0.846\n",
            "time cost: 34.38864779472351\n"
          ]
        }
      ]
    }
  ]
}