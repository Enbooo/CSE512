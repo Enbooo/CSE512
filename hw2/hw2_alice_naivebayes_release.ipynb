{
  "nbformat": 4,
  "nbformat_minor": 0,
  "metadata": {
    "kernelspec": {
      "display_name": "Python 3",
      "language": "python",
      "name": "python3"
    },
    "language_info": {
      "codemirror_mode": {
        "name": "ipython",
        "version": 3
      },
      "file_extension": ".py",
      "mimetype": "text/x-python",
      "name": "python",
      "nbconvert_exporter": "python",
      "pygments_lexer": "ipython3",
      "version": "3.8.8"
    },
    "colab": {
      "name": "hw2_alice_naivebayes_release.ipynb",
      "provenance": []
    }
  },
  "cells": [
    {
      "cell_type": "code",
      "metadata": {
        "colab": {
          "base_uri": "https://localhost:8080/"
        },
        "id": "fk5Zw48_fJ7Y",
        "outputId": "1bb331b4-0ec0-4327-adae-92ee52126d0a"
      },
      "source": [
        "from google.colab import drive\n",
        "drive.mount('/content/gdrive') "
      ],
      "execution_count": null,
      "outputs": [
        {
          "output_type": "stream",
          "name": "stdout",
          "text": [
            "Mounted at /content/gdrive\n"
          ]
        }
      ]
    },
    {
      "cell_type": "code",
      "metadata": {
        "id": "V_61oNyrfQ-w"
      },
      "source": [
        "import os\n",
        "code_path = \"/content/gdrive/MyDrive/CSE512-HW2/\"\n",
        "os.chdir(code_path)"
      ],
      "execution_count": null,
      "outputs": []
    },
    {
      "cell_type": "code",
      "metadata": {
        "id": "MtpdHeZjh1pZ"
      },
      "source": [
        "import numpy as np\n",
        "import pickle\n",
        "import matplotlib.pyplot as plt\n",
        "import copy\n",
        "\n",
        "import random\n"
      ],
      "execution_count": null,
      "outputs": []
    },
    {
      "cell_type": "code",
      "metadata": {
        "id": "L5-8LQOzh1pd",
        "colab": {
          "base_uri": "https://localhost:8080/"
        },
        "outputId": "8c0613e8-6142-43de-8685-908429084e8d"
      },
      "source": [
        "corpus = []\n",
        "f = open('alice_in_wonderland.txt','r')\n",
        "while(1):\n",
        "    line =  f.readline()\n",
        "    if len(line) == 0: break\n",
        "    corpus.extend(line.split())\n",
        "        \n",
        "f.close()\n",
        "corpus = ' '.join(corpus)\n",
        "\n",
        "def clean_word(word):\n",
        "    word = word.lower()\n",
        "    for punctuation in ['\"',\"'\",'.',',','-','?','!',';',':','—','(',')','[',']']:\n",
        "        word = word.split(punctuation)[0]\n",
        "    return word\n",
        "\n",
        "\n",
        "\n",
        "corpus = [clean_word(word) for word in corpus.split()]\n",
        "corpus = [word for word in corpus if len(word) > 0]\n",
        "print(corpus[:25])\n",
        "D = len(corpus)\n",
        "print('corpus len: ',D)"
      ],
      "execution_count": null,
      "outputs": [
        {
          "output_type": "stream",
          "name": "stdout",
          "text": [
            "['alice', 'adventures', 'in', 'wonderland', 'by', 'lewis', 'carroll', 'the', 'millennium', 'fulcrum', 'edition', '3', 'contents', 'chapter', 'i', 'down', 'the', 'rabbit', 'chapter', 'ii', 'the', 'pool', 'of', 'tears', 'chapter']\n",
            "corpus len:  25320\n"
          ]
        }
      ]
    },
    {
      "cell_type": "code",
      "metadata": {
        "id": "6mIUA54nh1pf",
        "colab": {
          "base_uri": "https://localhost:8080/"
        },
        "outputId": "503b89e4-dd3c-421d-8d14-f7d89a386eb8"
      },
      "source": [
        "tokenize = {}\n",
        "dictionary = []\n",
        "token = 0\n",
        "for word in corpus:\n",
        "    if word not in tokenize.keys():\n",
        "        tokenize[word] = token\n",
        "        dictionary.append(word)\n",
        "        token += 1\n",
        "    \n",
        "V = len(dictionary)\n",
        "print('dictionary size (number of distinct words): ', V)\n",
        "\n"
      ],
      "execution_count": null,
      "outputs": [
        {
          "output_type": "stream",
          "name": "stdout",
          "text": [
            "dictionary size (number of distinct words):  2501\n"
          ]
        }
      ]
    },
    {
      "cell_type": "code",
      "metadata": {
        "id": "ARyNaN98h1pg",
        "colab": {
          "base_uri": "https://localhost:8080/"
        },
        "outputId": "9ac331b3-e794-4658-ee99-c288b7f9d7c7"
      },
      "source": [
        "#past word as feature\n",
        "\n",
        "posterior_1word = np.zeros((V, V))\n",
        "prior = np.zeros(V)\n",
        "# Calculate the prior of the words.\n",
        "for i in range(len(corpus)):\n",
        "    prior[tokenize[corpus[i]]] += 1\n",
        "    if i > 0:\n",
        "       posterior_1word[tokenize[corpus[i-1]]][tokenize[corpus[i]]] += 1\n",
        "\n",
        "posterior_1word = posterior_1word / prior\n",
        "prior = prior / len(corpus)\n",
        "\n",
        "def get_likelihood_2gram(word):\n",
        "    likelihood = posterior_1word[tokenize[word], :] * prior\n",
        "    return(likelihood)\n",
        "def pred_2gram(word):\n",
        "    likelihood = get_likelihood_2gram(word)\n",
        "    i = np.argmax(likelihood)\n",
        "    return(dictionary[i], likelihood[i])\n",
        "print(pred_2gram('alice'))\n",
        "print(pred_2gram('the'))\n",
        "print(pred_2gram('cheshire'))\n",
        "print(pred_2gram('mock'))\n",
        "    "
      ],
      "execution_count": null,
      "outputs": [
        {
          "output_type": "stream",
          "name": "stdout",
          "text": [
            "('was', 0.0007109004739336493)\n",
            "('queen', 0.0027646129541864135)\n",
            "('cat', 0.00019747235387045816)\n",
            "('turtle', 0.0022511848341232226)\n"
          ]
        }
      ]
    },
    {
      "cell_type": "code",
      "metadata": {
        "id": "3E4UipUfh1ph",
        "colab": {
          "base_uri": "https://localhost:8080/"
        },
        "outputId": "1b8471c2-c55d-416e-e864-cb1efd1db39e"
      },
      "source": [
        "# Using the likelihoods computed from the bigram classiffer, and starting with a seed word \"alice\", \n",
        "# generate the next 25 words by always picking the most likely next word.\n",
        "word = \"alice\"\n",
        "article = word\n",
        "for i in range(25):\n",
        "    word, _ = pred_2gram(word)\n",
        "    article = article + \" \" + word\n",
        "print(article)\n"
      ],
      "execution_count": null,
      "outputs": [
        {
          "output_type": "stream",
          "name": "stdout",
          "text": [
            "alice was a little thing i can remember ever saw in a little thing i can remember ever saw in a little thing i can remember\n"
          ]
        }
      ]
    },
    {
      "cell_type": "code",
      "metadata": {
        "id": "jvHOJOuAh1pi",
        "colab": {
          "base_uri": "https://localhost:8080/"
        },
        "outputId": "09450d9f-e5d3-448b-e8c8-79a5cb7cadac"
      },
      "source": [
        "# Using random choices method\n",
        "word = \"alice\"\n",
        "article = word\n",
        "for i in range(25):\n",
        "    likelihood = get_likelihood_2gram(word)\n",
        "    word = random.choices(dictionary, weights = likelihood)[0]\n",
        "    article = article + \" \" + word\n",
        "print(article)"
      ],
      "execution_count": null,
      "outputs": [
        {
          "output_type": "stream",
          "name": "stdout",
          "text": [
            "alice and large again your majesty the gryphon and then thought must have a minute or drink something or not to be herself very gravely think\n"
          ]
        }
      ]
    },
    {
      "cell_type": "code",
      "metadata": {
        "colab": {
          "base_uri": "https://localhost:8080/"
        },
        "id": "TCZznhTxfipB",
        "outputId": "3e9521ed-3b53-4c0d-8126-00c812086816"
      },
      "source": [
        "# Calculate the acc of 1 word.\n",
        "positive = 0\n",
        "for i in range(len(corpus) - 1):\n",
        "    if pred_2gram(corpus[i])[0] == corpus[i+1]:\n",
        "        positive += 1\n",
        "print(\"The accuracy:\", positive / (len(corpus)-1))"
      ],
      "execution_count": null,
      "outputs": [
        {
          "output_type": "stream",
          "name": "stdout",
          "text": [
            "The accuracy: 0.2453493423910897\n"
          ]
        }
      ]
    },
    {
      "cell_type": "code",
      "metadata": {
        "colab": {
          "base_uri": "https://localhost:8080/"
        },
        "id": "AHz0xgu5fkJE",
        "outputId": "4b39a78f-d641-479a-8dde-266b210dc908"
      },
      "source": [
        "#past 2 words as features\n",
        "\n",
        "posterior_2words = np.zeros((V, V))\n",
        "for i in range(0, len(corpus) - 2):\n",
        "    posterior_2words[tokenize[corpus[i]]][tokenize[corpus[i + 2]]] += 1 \n",
        "posterior_2words /= prior\n",
        "\n",
        "posterior_2gram = np.vstack([posterior_1word,posterior_2words])\n",
        "\n",
        "\n",
        "\n",
        "def get_likelihood_3gram(word2ago,word1ago):\n",
        "    likelihood = posterior_1word[tokenize[word1ago], :] * posterior_2words[tokenize[word2ago], :] * prior\n",
        "    return likelihood\n",
        "def pred_3gram(word2ago,word1ago):\n",
        "    likelihood = get_likelihood_3gram(word2ago,word1ago)\n",
        "    i = np.argmax(likelihood)\n",
        "    return dictionary[i], likelihood[i]\n",
        "print(pred_3gram('pack','of'))\n",
        "print(pred_3gram('the','mad'))\n",
        "print(pred_3gram('she','jumped'))\n",
        "\n",
        "    "
      ],
      "execution_count": null,
      "outputs": [
        {
          "output_type": "stream",
          "name": "stdout",
          "text": [
            "('cards', 3.0)\n",
            "('you', 0.14447592067988668)\n",
            "('up', 0.5416666666666666)\n"
          ]
        }
      ]
    },
    {
      "cell_type": "code",
      "metadata": {
        "colab": {
          "base_uri": "https://localhost:8080/"
        },
        "id": "eXhdIFPuflrU",
        "outputId": "6607707e-5c85-4415-bce9-896a3d51262f"
      },
      "source": [
        "first_word = \"alice\"\n",
        "second_word = \"was\"\n",
        "article = first_word + \" \" + second_word\n",
        "for i in range(25):\n",
        "    new, _ = pred_3gram(first_word, second_word)\n",
        "    article = article + \" \" + new\n",
        "    first_word = second_word\n",
        "    second_word = new\n",
        "print(article)\n"
      ],
      "execution_count": null,
      "outputs": [
        {
          "output_type": "stream",
          "name": "stdout",
          "text": [
            "alice was not easy to take this young lady tells us a story afraid i am i ah that the queen who was peeping anxiously into its\n"
          ]
        }
      ]
    },
    {
      "cell_type": "code",
      "metadata": {
        "colab": {
          "base_uri": "https://localhost:8080/"
        },
        "id": "yUS1B2okfnFb",
        "outputId": "cc2b722a-e91e-4156-f596-a8102bf5593a"
      },
      "source": [
        "# Using random choices method\n",
        "first_word = \"alice\"\n",
        "second_word = \"was\"\n",
        "article = first_word + \" \" + second_word\n",
        "for i in range(25):\n",
        "    likelihood = get_likelihood_3gram(first_word, second_word)\n",
        "    new = random.choices(dictionary, weights = likelihood)[0]\n",
        "    article = article + \" \" + new\n",
        "    first_word = second_word\n",
        "    second_word = new\n",
        "print(article)"
      ],
      "execution_count": null,
      "outputs": [
        {
          "output_type": "stream",
          "name": "stdout",
          "text": [
            "alice was perfectly round she swam lazily about in a moment she felt certain it must know the song perhaps heard something splashing about in some of\n"
          ]
        }
      ]
    },
    {
      "cell_type": "code",
      "metadata": {
        "colab": {
          "base_uri": "https://localhost:8080/"
        },
        "id": "ml8FTUs7fohP",
        "outputId": "9ddeda7b-42ae-4c7f-d4ed-c0d49cac9b55"
      },
      "source": [
        "# Calculate the acc of 2 word.\n",
        "positive = 0\n",
        "for i in range(len(corpus) - 2):\n",
        "    if pred_3gram(corpus[i], corpus[i + 1])[0] == corpus[i+2]:\n",
        "        positive += 1\n",
        "print(\"The accuracy:\", positive / (len(corpus)-2))"
      ],
      "execution_count": null,
      "outputs": [
        {
          "output_type": "stream",
          "name": "stdout",
          "text": [
            "The accuracy: 0.5047397108776365\n"
          ]
        }
      ]
    }
  ]
}