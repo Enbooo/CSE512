{
  "nbformat": 4,
  "nbformat_minor": 5,
  "metadata": {
    "kernelspec": {
      "display_name": "Python 3",
      "language": "python",
      "name": "python3"
    },
    "language_info": {
      "codemirror_mode": {
        "name": "ipython",
        "version": 3
      },
      "file_extension": ".py",
      "mimetype": "text/x-python",
      "name": "python",
      "nbconvert_exporter": "python",
      "pygments_lexer": "ipython3",
      "version": "3.8.8"
    },
    "colab": {
      "name": "hw2_mnist_KNN_release.ipynb",
      "provenance": []
    }
  },
  "cells": [
    {
      "cell_type": "code",
      "metadata": {
        "id": "f2187020"
      },
      "source": [
        "#common packages we basically always need\n",
        "import numpy as np\n",
        "import matplotlib.pyplot as plt\n",
        "import time"
      ],
      "id": "f2187020",
      "execution_count": null,
      "outputs": []
    },
    {
      "cell_type": "code",
      "metadata": {
        "colab": {
          "base_uri": "https://localhost:8080/"
        },
        "id": "MoJHIvjKin7r",
        "outputId": "349a32ec-109e-4ae6-d4f0-6912ef8f4a71"
      },
      "source": [
        "from google.colab import drive\n",
        "drive.mount('/content/gdrive') "
      ],
      "id": "MoJHIvjKin7r",
      "execution_count": null,
      "outputs": [
        {
          "output_type": "stream",
          "name": "stdout",
          "text": [
            "Mounted at /content/gdrive\n"
          ]
        }
      ]
    },
    {
      "cell_type": "code",
      "metadata": {
        "id": "VjdQNi8c97fY"
      },
      "source": [
        "import os\n",
        "code_path = \"/content/gdrive/MyDrive/CSE512-HW2/\"\n",
        "os.chdir(code_path)"
      ],
      "id": "VjdQNi8c97fY",
      "execution_count": null,
      "outputs": []
    },
    {
      "cell_type": "code",
      "metadata": {
        "colab": {
          "base_uri": "https://localhost:8080/",
          "height": 535
        },
        "id": "4db3727d",
        "outputId": "8e14be36-6fad-4ce5-e662-31fc2abc6c13"
      },
      "source": [
        "#load the MNIST dataset with binary pixel values\n",
        "import scipy.io as sio\n",
        "data = sio.loadmat('mnist.mat')\n",
        "print(data)\n",
        "\n",
        "\n",
        "\n",
        "Xtrain, Xtest = data['trainX'].astype(float), data['testX'].astype(float)\n",
        "ytrain, ytest = data['trainY'][0], data['testY'][0]\n",
        "\n",
        "#pull and plot some samples\n",
        "for k in range(9):\n",
        "    plot_data = Xtrain[k,:]\n",
        "    plot_data = np.reshape(plot_data,(28,28))\n",
        "    plot_label = ytrain[k]\n",
        "    plt.subplot(3,3,k+1)\n",
        "    plt.imshow(plot_data)\n",
        "    plt.title(plot_label)\n",
        "plt.tight_layout()\n",
        "\n",
        "def get_small_dataset(X,y,m):\n",
        "    return X[:m,:],y[:m]\n",
        "\n",
        "\n",
        "num_labels = len(np.unique(ytrain))\n",
        "num_feats = Xtrain.shape[1]"
      ],
      "id": "4db3727d",
      "execution_count": null,
      "outputs": [
        {
          "output_type": "stream",
          "name": "stdout",
          "text": [
            "{'__header__': b'MATLAB 5.0 MAT-file Platform: posix, Created on: Wed Oct 18 19:00:09 2017', '__version__': '1.0', '__globals__': [], 'testX': array([[0, 0, 0, ..., 0, 0, 0],\n",
            "       [0, 0, 0, ..., 0, 0, 0],\n",
            "       [0, 0, 0, ..., 0, 0, 0],\n",
            "       ...,\n",
            "       [0, 0, 0, ..., 0, 0, 0],\n",
            "       [0, 0, 0, ..., 0, 0, 0],\n",
            "       [0, 0, 0, ..., 0, 0, 0]], dtype=uint8), 'testY': array([[7, 2, 1, ..., 4, 5, 6]], dtype=uint8), 'trainY': array([[5, 0, 4, ..., 5, 6, 8]], dtype=uint8), 'trainX': array([[0, 0, 0, ..., 0, 0, 0],\n",
            "       [0, 0, 0, ..., 0, 0, 0],\n",
            "       [0, 0, 0, ..., 0, 0, 0],\n",
            "       ...,\n",
            "       [0, 0, 0, ..., 0, 0, 0],\n",
            "       [0, 0, 0, ..., 0, 0, 0],\n",
            "       [0, 0, 0, ..., 0, 0, 0]], dtype=uint8)}\n"
          ]
        },
        {
          "output_type": "display_data",
          "data": {
            "image/png": "[encoded data removed]",
            "text/plain": [
              "<Figure size 432x288 with 9 Axes>"
            ]
          },
          "metadata": {
            "needs_background": "light"
          }
        }
      ]
    },
    {
      "cell_type": "code",
      "metadata": {
        "id": "27ea988b",
        "colab": {
          "base_uri": "https://localhost:8080/"
        },
        "outputId": "6591950d-48f9-4f08-973f-52c5339fda77"
      },
      "source": [
        "\n",
        "def get_dist(Xtrain,zquery):\n",
        "    distances = -2*Xtrain@zquery + np.sum(zquery**2) + np.sum(Xtrain**2, axis = 1)\n",
        "    distances = distances**.5\n",
        "    return distances\n",
        "    \n",
        "print(get_dist(Xtrain,Xtrain[0,:])[0])\n",
        "print(get_dist(Xtrain,Xtest[0,:])[10])\n",
        "print(get_dist(Xtrain,Xtest[10,:])[50])\n",
        "\n",
        "\n"
      ],
      "id": "27ea988b",
      "execution_count": null,
      "outputs": [
        {
          "output_type": "stream",
          "name": "stdout",
          "text": [
            "0.0\n",
            "2463.6278127996525\n",
            "2379.441951382719\n"
          ]
        }
      ]
    },
    {
      "cell_type": "code",
      "metadata": {
        "id": "2650aba5",
        "colab": {
          "base_uri": "https://localhost:8080/"
        },
        "outputId": "e8b8c008-e589-4241-8f6b-8d25949f1049"
      },
      "source": [
        "import scipy.stats as ss\n",
        "\n",
        "m = 100\n",
        "K = 3\n",
        "\n",
        "Xtrain_small, ytrain_small = get_small_dataset(Xtrain,ytrain,m)\n",
        "\n",
        "def pred(zquery,Xtrain,ytrain, K):\n",
        "    distances = get_dist(Xtrain, zquery)\n",
        "    indices = np.argsort(distances)\n",
        "    distances = np.sort(distances)\n",
        "    topk = ytrain_small[indices[0:K]]\n",
        "    return ss.mode(topk)[0]\n",
        "    \n",
        "ytest_pred = ytest + 0    \n",
        "for k in range(Xtest.shape[0]):\n",
        "    z = Xtest[k,:]\n",
        "    ytest_pred[k] = pred(z,Xtrain_small, ytrain_small, K)\n",
        "\n",
        "print(ytest_pred[:20])\n",
        "print(ytest[:20])"
      ],
      "id": "2650aba5",
      "execution_count": null,
      "outputs": [
        {
          "output_type": "stream",
          "name": "stdout",
          "text": [
            "[7 2 1 0 4 1 4 4 6 9 0 0 9 0 1 9 7 7 3 4]\n",
            "[7 2 1 0 4 1 4 9 5 9 0 6 9 0 1 5 9 7 3 4]\n"
          ]
        }
      ]
    },
    {
      "cell_type": "code",
      "metadata": {
        "id": "eac910ab",
        "colab": {
          "base_uri": "https://localhost:8080/"
        },
        "outputId": "673ce6cb-2a17-4e21-b538-5240b99aac32"
      },
      "source": [
        "# from sklearn.metrics import accuracy_score\n",
        "def get_accuracy(ytest, ypred):\n",
        "    return np.sum(ytest == ypred) / len(ytest)\n",
        "\n",
        "get_accuracy(ytest,ytest_pred)"
      ],
      "id": "eac910ab",
      "execution_count": null,
      "outputs": [
        {
          "output_type": "execute_result",
          "data": {
            "text/plain": [
              "0.6794"
            ]
          },
          "metadata": {},
          "execution_count": 9
        }
      ]
    },
    {
      "cell_type": "code",
      "metadata": {
        "id": "c6fa75de",
        "colab": {
          "base_uri": "https://localhost:8080/"
        },
        "outputId": "f039289a-dca6-4d74-b2b6-2b8c6f812c5e"
      },
      "source": [
        "import time\n",
        "for m in [100,1000, 2500]:\n",
        "    Xtrain_small, ytrain_small = get_small_dataset(Xtrain,ytrain,m)\n",
        "    for K in [1,3,5]:\n",
        "        \n",
        "        start = time.time()\n",
        "        ytest_pred = ytest + 0    \n",
        "        for k in range(Xtest.shape[0]):\n",
        "            z = Xtest[k,:]\n",
        "            ytest_pred[k] = pred(z,Xtrain_small, ytrain_small, K)\n",
        "    \n",
        "        print(m,K,get_accuracy(ytest,ytest_pred), time.time()-start)"
      ],
      "id": "c6fa75de",
      "execution_count": null,
      "outputs": [
        {
          "output_type": "stream",
          "name": "stdout",
          "text": [
            "100 1 0.6794 9.281357049942017\n",
            "100 3 0.6476 9.205874681472778\n",
            "100 5 0.6232 9.351280927658081\n",
            "1000 1 0.869 54.075950622558594\n",
            "1000 3 0.8622 48.400837898254395\n",
            "1000 5 0.8582 47.38647818565369\n",
            "2500 1 0.9136 126.55778646469116\n",
            "2500 3 0.9146 126.62799572944641\n",
            "2500 5 0.9101 125.87638521194458\n"
          ]
        }
      ]
    },
    {
      "cell_type": "code",
      "metadata": {
        "id": "431fd849"
      },
      "source": [
        ""
      ],
      "id": "431fd849",
      "execution_count": null,
      "outputs": []
    }
  ]
}